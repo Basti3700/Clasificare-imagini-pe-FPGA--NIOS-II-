{
 "cells": [
  {
   "cell_type": "code",
   "execution_count": 1,
   "metadata": {},
   "outputs": [],
   "source": [
    "import torch as t \n",
    "#import lenet\n",
    "import numpy as np\n",
    "#import lenet\n",
    "import cv2\n",
    "from PIL import Image, ImageFilter\n",
    "import matplotlib.pyplot as plt"
   ]
  },
  {
   "attachments": {},
   "cell_type": "markdown",
   "metadata": {},
   "source": [
    "### 定点化转换函数"
   ]
  },
  {
   "cell_type": "code",
   "execution_count": 2,
   "metadata": {},
   "outputs": [],
   "source": [
    "def myTrans(inti):\n",
    "    str = hex(int(inti) & 0xffff)[2:]\n",
    "    lens = len(str)\n",
    "    strnew = \"0\" * (4 - lens) + str        \n",
    "    return strnew\n",
    "def tensorTrans(tensor):\n",
    "    shape = tensor.shape\n",
    "    shapelen = len(shape)\n",
    "    tempTensor = []\n",
    "    if shapelen == 3:\n",
    "        \n",
    "        for i in range(shape[0]):\n",
    "            temp1 = []\n",
    "            for j in range(shape[1]):\n",
    "                temp2 = []\n",
    "                for k in range(shape[2]):\n",
    "                    temp2.append(myTrans(tensor[i,j,k]))\n",
    "                temp1.append(temp2)\n",
    "            tempTensor.append(temp1)\n",
    "            \n",
    "    elif shapelen == 4:\n",
    "        for i in range(shape[0]):\n",
    "            temp1 = []\n",
    "            for j in range(shape[1]):\n",
    "                temp2 = []\n",
    "                for k in range(shape[2]):\n",
    "                    temp3 = []\n",
    "                    for m in range(shape[3]):\n",
    "                        temp3.append(myTrans(tensor[i,j,k,m]))\n",
    "                    temp2.append(temp3)\n",
    "                temp1.append(temp2)\n",
    "            tempTensor.append(temp1)\n",
    "    elif shapelen == 1:\n",
    "        for i in range(shape[0]):\n",
    "            tempTensor.append(myTrans(tensor[i]))\n",
    "    elif shapelen == 2:\n",
    "        for i in range(shape[0]):\n",
    "            temp1 = []\n",
    "            for j in range(shape[1]):\n",
    "                temp1.append(myTrans(tensor[i,j]))\n",
    "            tempTensor.append(temp1)\n",
    "    else:\n",
    "        print(shapelen)\n",
    "    return tempTensor\n",
    "    "
   ]
  },
  {
   "attachments": {},
   "cell_type": "markdown",
   "metadata": {},
   "source": [
    "### 参数定点化"
   ]
  },
  {
   "cell_type": "code",
   "execution_count": 3,
   "metadata": {},
   "outputs": [
    {
     "ename": "KeyError",
     "evalue": "'k'",
     "output_type": "error",
     "traceback": [
      "\u001b[1;31m---------------------------------------------------------------------------\u001b[0m",
      "\u001b[1;31mKeyError\u001b[0m                                  Traceback (most recent call last)",
      "Cell \u001b[1;32mIn[3], line 13\u001b[0m\n\u001b[0;32m     11\u001b[0m \u001b[39mfor\u001b[39;00m i \u001b[39min\u001b[39;00m \u001b[39mrange\u001b[39m(\u001b[39m10\u001b[39m):\n\u001b[0;32m     12\u001b[0m     \u001b[39mwith\u001b[39;00m \u001b[39mopen\u001b[39m( \u001b[39m\"\u001b[39m\u001b[39m\\\\\u001b[39;00m\u001b[39mUsers\u001b[39m\u001b[39m\\\u001b[39m\u001b[39mminut\u001b[39m\u001b[39m\\\u001b[39m\u001b[39mDesktop\u001b[39m\u001b[39m\\\u001b[39m\u001b[39mlicentaaaa\u001b[39m\u001b[39m\\\u001b[39m\u001b[39mLeNet-5_FPGA-main\u001b[39m\u001b[39m\\\u001b[39m\u001b[39mLeNet-5_FPGA-main\u001b[39m\u001b[39m\\\u001b[39m\u001b[39msrc\u001b[39m\u001b[39m\\\u001b[39m\u001b[39mLeNet_verilog\u001b[39m\u001b[39m\\\u001b[39m\u001b[39mparams\u001b[39m\u001b[39m\"\u001b[39m \u001b[39m+\u001b[39m \u001b[39mstr\u001b[39m(\u001b[39m\"\u001b[39m\u001b[39mkeys\u001b[39m\u001b[39m\"\u001b[39m[i]) \u001b[39m+\u001b[39m \u001b[39m\"\u001b[39m\u001b[39m.txt\u001b[39m\u001b[39m\"\u001b[39m, \u001b[39m\"\u001b[39m\u001b[39mw\u001b[39m\u001b[39m\"\u001b[39m) \u001b[39mas\u001b[39;00m f:\n\u001b[1;32m---> 13\u001b[0m         shape \u001b[39m=\u001b[39m np\u001b[39m.\u001b[39marray(hex_state_dict[\u001b[39m\"\u001b[39;49m\u001b[39mkeys\u001b[39;49m\u001b[39m\"\u001b[39;49m[i]])\u001b[39m.\u001b[39mshape\n\u001b[0;32m     14\u001b[0m         lens \u001b[39m=\u001b[39m \u001b[39mlen\u001b[39m(shape)\n\u001b[0;32m     15\u001b[0m         \u001b[39mif\u001b[39;00m(lens \u001b[39m==\u001b[39m \u001b[39m4\u001b[39m):\n",
      "\u001b[1;31mKeyError\u001b[0m: 'k'"
     ]
    }
   ],
   "source": [
    "state_dict = t.load(\"\\\\Users\\minut\\Desktop\\licentaaaa\\LeNet-5_FPGA-main\\LeNet-5_FPGA-main\\src\\LeNet_pytorch\\model_saved\\ net.pth\")\n",
    "\n",
    "INT_state_dict = {}\n",
    "for i in state_dict:\n",
    "    INT_state_dict[i] = (state_dict[i] * pow(2, 8)).int()\n",
    "    \n",
    "hex_state_dict = {}\n",
    "for i in INT_state_dict:\n",
    "    hex_state_dict[i] = tensorTrans(INT_state_dict[i])\n",
    "    \n",
    "for i in range(10):\n",
    "    with open( \"\\\\Users\\minut\\Desktop\\licentaaaa\\LeNet-5_FPGA-main\\LeNet-5_FPGA-main\\src\\LeNet_verilog\\params\" + str(\"keys\"[i]) + \".txt\", \"w\") as f:\n",
    "        shape = np.array(hex_state_dict[\"keys\"[i]]).shape\n",
    "        lens = len(shape)\n",
    "        if(lens == 4):\n",
    "            if(shape[0] == 120) :\n",
    "                for num in range(shape[0]):\n",
    "                    for num2 in range(shape[1]):\n",
    "                        for row in range(shape[2]):\n",
    "                            for col in range(shape[3]):\n",
    "                                \n",
    "                                f.write(hex_state_dict[\"keys\"[i]][num][num2][row][col] + ' ')\n",
    "                        \n",
    "                        f.write('\\n')\n",
    "\n",
    "            else:\n",
    "                for num in range(shape[0]):\n",
    "                    for num2 in range(shape[1]):\n",
    "                        for row in range(shape[2]):\n",
    "                            for col in range(shape[3]):\n",
    "                                f.write(hex_state_dict[\"keys\"[i]][num][num2][row][col] + ' ')\n",
    "                                f.write('\\n')\n",
    "                        \n",
    "        elif(lens == 2):\n",
    "            for num in range(shape[0]):\n",
    "            \n",
    "                if shape[1] == 84:\n",
    "                    for num2 in range(shape[1] + 12):\n",
    "                        if num2 < shape[1]:\n",
    "                            f.write(hex_state_dict[\"keys\"[i]][num][num2] + '\\n')\n",
    "                        else:\n",
    "                            f.write('0000' + '\\n')\n",
    "                if shape[1] == 120:\n",
    "                    for num2 in range(shape[1] + 8):\n",
    "                        if num2 < shape[1]:\n",
    "                            f.write(hex_state_dict[\"keys\"[i]][num][num2] + '\\n')\n",
    "                        else:\n",
    "                            f.write('0000' + '\\n')\n",
    "\n",
    "\n",
    "        elif(lens == 1):\n",
    "            for num in range(shape[0]):\n",
    "                f.write(hex_state_dict[\"keys\"[i]][num] + ' ')\n",
    "                \n",
    "        else:\n",
    "\n",
    "            print(\"error\")\n"
   ]
  },
  {
   "attachments": {},
   "cell_type": "markdown",
   "metadata": {},
   "source": [
    "### 图片预处理"
   ]
  },
  {
   "cell_type": "code",
   "execution_count": 5,
   "metadata": {},
   "outputs": [
    {
     "ename": "error",
     "evalue": "OpenCV(4.7.0) D:\\a\\opencv-python\\opencv-python\\opencv\\modules\\imgproc\\src\\color.cpp:182: error: (-215:Assertion failed) !_src.empty() in function 'cv::cvtColor'\n",
     "output_type": "error",
     "traceback": [
      "\u001b[1;31m---------------------------------------------------------------------------\u001b[0m",
      "\u001b[1;31merror\u001b[0m                                     Traceback (most recent call last)",
      "Cell \u001b[1;32mIn[5], line 19\u001b[0m\n\u001b[0;32m     17\u001b[0m path0 \u001b[39m=\u001b[39m \u001b[39m\"\u001b[39m\u001b[39m\\\\\u001b[39;00m\u001b[39mUsers\u001b[39m\u001b[39m\\\u001b[39m\u001b[39mminut\u001b[39m\u001b[39m\\\u001b[39m\u001b[39mDesktop\u001b[39m\u001b[39m\\\u001b[39m\u001b[39mlicentaaaa\u001b[39m\u001b[39m\\\u001b[39m\u001b[39mLeNet-5_FPGA-main\u001b[39m\u001b[39m\\\u001b[39m\u001b[39mLeNet-5_FPGA-main\u001b[39m\u001b[39m\\\u001b[39m\u001b[39msrc\u001b[39m\u001b[39m\\\u001b[39m\u001b[39mLeNet_pytorch\u001b[39m\u001b[39m\\\u001b[39m\u001b[39mpic\u001b[39m\u001b[39m\"\u001b[39m\n\u001b[0;32m     18\u001b[0m pic_path \u001b[39m=\u001b[39m path0 \u001b[39m+\u001b[39m \u001b[39m'\u001b[39m\u001b[39m12\u001b[39m\u001b[39m'\u001b[39m \u001b[39m+\u001b[39m \u001b[39m'\u001b[39m\u001b[39m.png\u001b[39m\u001b[39m'\u001b[39m\n\u001b[1;32m---> 19\u001b[0m pic \u001b[39m=\u001b[39m imagePrepare(pic_path)\n",
      "Cell \u001b[1;32mIn[5], line 5\u001b[0m, in \u001b[0;36mimagePrepare\u001b[1;34m(pic_path)\u001b[0m\n\u001b[0;32m      3\u001b[0m ret,th1 \u001b[39m=\u001b[39m cv2\u001b[39m.\u001b[39mthreshold(img,\u001b[39m127\u001b[39m,\u001b[39m255\u001b[39m,cv2\u001b[39m.\u001b[39mTHRESH_BINARY)\n\u001b[0;32m      4\u001b[0m \u001b[39m# 把opencv图像转化为PIL图像\u001b[39;00m\n\u001b[1;32m----> 5\u001b[0m im \u001b[39m=\u001b[39m Image\u001b[39m.\u001b[39mfromarray(cv2\u001b[39m.\u001b[39;49mcvtColor(th1,cv2\u001b[39m.\u001b[39;49mCOLOR_BGR2RGB))\n\u001b[0;32m      6\u001b[0m \u001b[39m# 灰度化\u001b[39;00m\n\u001b[0;32m      7\u001b[0m im \u001b[39m=\u001b[39m im\u001b[39m.\u001b[39mconvert(\u001b[39m'\u001b[39m\u001b[39mL\u001b[39m\u001b[39m'\u001b[39m)\n",
      "\u001b[1;31merror\u001b[0m: OpenCV(4.7.0) D:\\a\\opencv-python\\opencv-python\\opencv\\modules\\imgproc\\src\\color.cpp:182: error: (-215:Assertion failed) !_src.empty() in function 'cv::cvtColor'\n"
     ]
    }
   ],
   "source": [
    "def imagePrepare(pic_path):\n",
    "    img = cv2.imread(pic_path, 1)\n",
    "    ret,th1 = cv2.threshold(img,127,255,cv2.THRESH_BINARY)\n",
    "    # 把opencv图像转化为PIL图像\n",
    "    im = Image.fromarray(cv2.cvtColor(th1,cv2.COLOR_BGR2RGB))\n",
    "    # 灰度化\n",
    "    im = im.convert('L')\n",
    "    # 为图片重新指定尺寸\n",
    "    im = im.resize((28,28), Image.ANTIALIAS)\n",
    "    plt.imshow(im)\n",
    "    plt.show()\n",
    "    # 图像转换为list\n",
    "    im_list = list(im.getdata())\n",
    "    # 图像灰度反转\n",
    "    result = [(255-x)*1.0/255.0 for x in im_list]\n",
    "    return result\n",
    "path0 = \"\\\\Users\\minut\\Desktop\\licentaaaa\\LeNet-5_FPGA-main\\LeNet-5_FPGA-main\\src\\LeNet_pytorch\\pic\"\n",
    "pic_path = path0 + '12' + '.png'\n",
    "pic = imagePrepare(pic_path)\n"
   ]
  },
  {
   "attachments": {},
   "cell_type": "markdown",
   "metadata": {},
   "source": [
    "### 图片定点化"
   ]
  },
  {
   "cell_type": "code",
   "execution_count": 6,
   "metadata": {},
   "outputs": [
    {
     "ename": "error",
     "evalue": "OpenCV(4.7.0) D:\\a\\opencv-python\\opencv-python\\opencv\\modules\\imgproc\\src\\color.cpp:182: error: (-215:Assertion failed) !_src.empty() in function 'cv::cvtColor'\n",
     "output_type": "error",
     "traceback": [
      "\u001b[1;31m---------------------------------------------------------------------------\u001b[0m",
      "\u001b[1;31merror\u001b[0m                                     Traceback (most recent call last)",
      "Cell \u001b[1;32mIn[6], line 3\u001b[0m\n\u001b[0;32m      1\u001b[0m \u001b[39mfor\u001b[39;00m i \u001b[39min\u001b[39;00m \u001b[39mrange\u001b[39m(\u001b[39m20\u001b[39m):\n\u001b[0;32m      2\u001b[0m     pic_path \u001b[39m=\u001b[39m path0 \u001b[39m+\u001b[39m \u001b[39mstr\u001b[39m(i) \u001b[39m+\u001b[39m \u001b[39m'\u001b[39m\u001b[39m.png\u001b[39m\u001b[39m'\u001b[39m\n\u001b[1;32m----> 3\u001b[0m     pic \u001b[39m=\u001b[39m imagePrepare(pic_path)\n\u001b[0;32m      4\u001b[0m     \u001b[39mwith\u001b[39;00m \u001b[39mopen\u001b[39m(\u001b[39m'\u001b[39m\u001b[39m./params/pic.txt\u001b[39m\u001b[39m'\u001b[39m, \u001b[39m'\u001b[39m\u001b[39ma\u001b[39m\u001b[39m'\u001b[39m) \u001b[39mas\u001b[39;00m f:\n\u001b[0;32m      5\u001b[0m         \u001b[39mfor\u001b[39;00m j \u001b[39min\u001b[39;00m \u001b[39mrange\u001b[39m(\u001b[39m784\u001b[39m):\n",
      "Cell \u001b[1;32mIn[5], line 5\u001b[0m, in \u001b[0;36mimagePrepare\u001b[1;34m(pic_path)\u001b[0m\n\u001b[0;32m      3\u001b[0m ret,th1 \u001b[39m=\u001b[39m cv2\u001b[39m.\u001b[39mthreshold(img,\u001b[39m127\u001b[39m,\u001b[39m255\u001b[39m,cv2\u001b[39m.\u001b[39mTHRESH_BINARY)\n\u001b[0;32m      4\u001b[0m \u001b[39m# 把opencv图像转化为PIL图像\u001b[39;00m\n\u001b[1;32m----> 5\u001b[0m im \u001b[39m=\u001b[39m Image\u001b[39m.\u001b[39mfromarray(cv2\u001b[39m.\u001b[39;49mcvtColor(th1,cv2\u001b[39m.\u001b[39;49mCOLOR_BGR2RGB))\n\u001b[0;32m      6\u001b[0m \u001b[39m# 灰度化\u001b[39;00m\n\u001b[0;32m      7\u001b[0m im \u001b[39m=\u001b[39m im\u001b[39m.\u001b[39mconvert(\u001b[39m'\u001b[39m\u001b[39mL\u001b[39m\u001b[39m'\u001b[39m)\n",
      "\u001b[1;31merror\u001b[0m: OpenCV(4.7.0) D:\\a\\opencv-python\\opencv-python\\opencv\\modules\\imgproc\\src\\color.cpp:182: error: (-215:Assertion failed) !_src.empty() in function 'cv::cvtColor'\n"
     ]
    }
   ],
   "source": [
    "for i in range(20):\n",
    "    pic_path = path0 + str(i) + '.png'\n",
    "    pic = imagePrepare(pic_path)\n",
    "    with open('./params/pic.txt', 'a') as f:\n",
    "        for j in range(784):\n",
    "            f.write(myTrans(int(pic[j]*pow(2,8))) + ',\\n')"
   ]
  }
 ],
 "metadata": {
  "kernelspec": {
   "display_name": "Python 3.9.7 ('base')",
   "language": "python",
   "name": "python3"
  },
  "language_info": {
   "codemirror_mode": {
    "name": "ipython",
    "version": 3
   },
   "file_extension": ".py",
   "mimetype": "text/x-python",
   "name": "python",
   "nbconvert_exporter": "python",
   "pygments_lexer": "ipython3",
   "version": "3.11.3"
  },
  "orig_nbformat": 4,
  "vscode": {
   "interpreter": {
    "hash": "7a939597f086d71e26bca31a68d9a193c44f7e26c410e2330480d1d9af2dd9e7"
   }
  }
 },
 "nbformat": 4,
 "nbformat_minor": 2
}
